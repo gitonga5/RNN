{
 "cells": [
  {
   "cell_type": "markdown",
   "id": "6aa73f49",
   "metadata": {},
   "source": [
    "#####  Problem 1: Simple Forward Propagation Implementation of RNN"
   ]
  },
  {
   "cell_type": "code",
   "execution_count": 1,
   "id": "e2a0f460",
   "metadata": {},
   "outputs": [],
   "source": [
    "import numpy as np\n",
    "\n",
    "class SimpleRNN:\n",
    "    def __init__(self, n_features, n_nodes):\n",
    "        self.n_features = n_features\n",
    "        self.n_nodes = n_nodes\n",
    "        # Initialize weights\n",
    "        self.Wx = None  # Shape: (n_features, n_nodes)\n",
    "        self.Wh = None  # Shape: (n_nodes, n_nodes)\n",
    "        self.B = None   # Shape: (n_nodes,)\n",
    "\n",
    "    def forward(self, x, h0=None):\n",
    "        batch_size, n_sequences, _ = x.shape\n",
    "        # Initialize weights if not already set\n",
    "        if self.Wx is None:\n",
    "            self.Wx = np.random.randn(self.n_features, self.n_nodes)\n",
    "        if self.Wh is None:\n",
    "            self.Wh = np.random.randn(self.n_nodes, self.n_nodes)\n",
    "        if self.B is None:\n",
    "            self.B = np.zeros(self.n_nodes)\n",
    "        # Initial hidden state\n",
    "        if h0 is None:\n",
    "            h = np.zeros((batch_size, self.n_nodes))\n",
    "        else:\n",
    "            h = h0\n",
    "        self.h_list = []\n",
    "        for t in range(n_sequences):\n",
    "            xt = x[:, t, :]  # (batch_size, n_features)\n",
    "            at = xt @ self.Wx + h @ self.Wh + self.B  # pre-activation\n",
    "            h = np.tanh(at)\n",
    "            self.h_list.append(h)\n",
    "        return h  # final hidden state\n"
   ]
  },
  {
   "cell_type": "markdown",
   "id": "537a30dd",
   "metadata": {},
   "source": [
    "##### Problem 2: Experiment of Forward Propagation with Small Sequence"
   ]
  },
  {
   "cell_type": "code",
   "execution_count": 2,
   "id": "3a7c7f65",
   "metadata": {},
   "outputs": [
    {
     "name": "stdout",
     "output_type": "stream",
     "text": [
      "Final hidden state:\n",
      " [[0.79494228 0.81839002 0.83939649 0.85584174]]\n"
     ]
    }
   ],
   "source": [
    "# Input and parameter setup\n",
    "x = np.array([[[1, 2], [2, 3], [3, 4]]]) / 100  # (1, 3, 2)\n",
    "w_x = np.array([[1, 3, 5, 7], [3, 5, 7, 8]]) / 100  # (2, 4)\n",
    "w_h = np.array([[1, 3, 5, 7],\n",
    "                [2, 4, 6, 8],\n",
    "                [3, 5, 7, 8],\n",
    "                [4, 6, 8, 10]]) / 100  # (4, 4)\n",
    "b = np.array([1, 1, 1, 1])  # (4,)\n",
    "batch_size = x.shape[0]\n",
    "n_sequences = x.shape[1]\n",
    "n_features = x.shape[2]\n",
    "n_nodes = w_x.shape[1]\n",
    "h = np.zeros((batch_size, n_nodes))\n",
    "\n",
    "# Forward propagation step-by-step\n",
    "for t in range(n_sequences):\n",
    "    xt = x[:, t, :]  # (1, 2)\n",
    "    at = xt @ w_x + h @ w_h + b  # (1, 4)\n",
    "    h = np.tanh(at)\n",
    "\n",
    "print(\"Final hidden state:\\n\", h)\n",
    "# Should print approx: [[0.79494228, 0.81839002, 0.83939649, 0.85584174]]\n"
   ]
  },
  {
   "cell_type": "markdown",
   "id": "ddf59e3a",
   "metadata": {},
   "source": [
    "##### Problem 3 (Advanced): Implementation of Backpropagation\n"
   ]
  },
  {
   "cell_type": "code",
   "execution_count": 3,
   "id": "7fe7b20e",
   "metadata": {},
   "outputs": [],
   "source": [
    "class SimpleRNNWithGrad(SimpleRNN):\n",
    "    def backward(self, x, h_list, dh_next, learning_rate=0.01):\n",
    "        batch_size, n_sequences, n_features = x.shape\n",
    "\n",
    "        # Initialize gradients\n",
    "        dWx = np.zeros_like(self.Wx)\n",
    "        dWh = np.zeros_like(self.Wh)\n",
    "        dB = np.zeros_like(self.B)\n",
    "\n",
    "        dh_t = dh_next  # (batch_size, n_nodes)\n",
    "\n",
    "        for t in reversed(range(n_sequences)):\n",
    "            xt = x[:, t, :]  # (batch_size, n_features)\n",
    "            h_t = h_list[t]\n",
    "            h_prev = h_list[t-1] if t != 0 else np.zeros_like(h_t)\n",
    "\n",
    "            # Derivative of tanh\n",
    "            da = dh_t * (1 - h_t ** 2)  # (batch_size, n_nodes)\n",
    "\n",
    "            # Gradients\n",
    "            dWx += xt.T @ da  # (n_features, n_nodes)\n",
    "            dWh += h_prev.T @ da  # (n_nodes, n_nodes)\n",
    "            dB += np.sum(da, axis=0)  # (n_nodes,)\n",
    "\n",
    "            # Propagate error to previous step\n",
    "            dh_t = da @ self.Wh.T\n",
    "\n",
    "        # Parameter updates\n",
    "        self.Wx -= learning_rate * dWx\n",
    "        self.Wh -= learning_rate * dWh\n",
    "        self.B -= learning_rate * dB\n",
    "\n",
    "        return dWx, dWh, dB\n"
   ]
  }
 ],
 "metadata": {
  "kernelspec": {
   "display_name": "base",
   "language": "python",
   "name": "python3"
  },
  "language_info": {
   "codemirror_mode": {
    "name": "ipython",
    "version": 3
   },
   "file_extension": ".py",
   "mimetype": "text/x-python",
   "name": "python",
   "nbconvert_exporter": "python",
   "pygments_lexer": "ipython3",
   "version": "3.12.3"
  }
 },
 "nbformat": 4,
 "nbformat_minor": 5
}
